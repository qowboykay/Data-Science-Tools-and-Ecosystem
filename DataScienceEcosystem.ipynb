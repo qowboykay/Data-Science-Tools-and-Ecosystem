{
 "cells": [
  {
   "cell_type": "markdown",
   "id": "af0e5c10",
   "metadata": {},
   "source": [
    "# Data Science Tools and Ecosystem"
   ]
  },
  {
   "cell_type": "markdown",
   "id": "9ca46cfb",
   "metadata": {},
   "source": [
    "## Author \n",
    "Rahul Kayithi"
   ]
  },
  {
   "cell_type": "markdown",
   "id": "a3297060",
   "metadata": {},
   "source": [
    "**Objectives:**\n",
    "* Popular DS languages\n",
    "* Commonly used DS libraries\n",
    "* Popular DS tools\n",
    "* Examples of arithmetic expressions in Python"
   ]
  },
  {
   "cell_type": "markdown",
   "id": "bc5df35f",
   "metadata": {},
   "source": [
    "This notebook briefly introduces some of the Data Science Tools and Ecosystem. This is an introductory assignment for the IBM Data Professional Certification."
   ]
  },
  {
   "cell_type": "markdown",
   "id": "625f36ae",
   "metadata": {},
   "source": [
    "Some of the most popular languages that Data Scientists use are:\n",
    "1. Python: A high-level, general-purpose programming language. Ithas a large, standard library that provides tools\n",
    "    suited to many different tasks, including Databases,\n",
    "    Automation, Web scraping, Text processing, Image\n",
    "    processing, Machine learning, and Data analytics\n",
    "2. SQL: Structured Query Language that is non-procedural, usedfor querying and managing data\n",
    "3. R: A statistical computing language "
   ]
  },
  {
   "cell_type": "markdown",
   "id": "ded4dae6",
   "metadata": {},
   "source": [
    "Some of the commonly used libraries used by Data Scientists include:\n",
    "1. Pandas: A library that offers data structures and tools foreffective data cleaning, manipulation, and analysis\n",
    "2. NumPy: Libraries are based on arrays and matrices, allowingyou to apply mathematical functions to the arrays\n",
    "3. Matplotlib: package for data visualization"
   ]
  },
  {
   "cell_type": "markdown",
   "id": "eaa67b3f",
   "metadata": {},
   "source": [
    "| Data Science Tools |\n",
    "| -------- |\n",
    "| Jupyter |\n",
    "| Apache Spark |\n",
    "| MySQL |"
   ]
  },
  {
   "cell_type": "markdown",
   "id": "1f4c9040",
   "metadata": {},
   "source": [
    "### Below are a few examples of evaluating arithmetic expressions in Python:"
   ]
  },
  {
   "cell_type": "code",
   "execution_count": 17,
   "id": "11d0c9d6",
   "metadata": {},
   "outputs": [
    {
     "name": "stdout",
     "output_type": "stream",
     "text": [
      "7\n",
      "3\n",
      "10\n",
      "2.5\n",
      "1\n",
      "2\n",
      "25\n"
     ]
    }
   ],
   "source": [
    "a = 5\n",
    "b = 2\n",
    "\n",
    "print(a + b)\n",
    "\n",
    "print(a - b)\n",
    "\n",
    "print(a * b)\n",
    "\n",
    "print(a / b)\n",
    "\n",
    "print(a % b)\n",
    "\n",
    "print(a // b)\n",
    "\n",
    "print(a**b)"
   ]
  },
  {
   "cell_type": "code",
   "execution_count": 18,
   "id": "fed64ceb",
   "metadata": {},
   "outputs": [
    {
     "data": {
      "text/plain": [
       "17"
      ]
     },
     "execution_count": 18,
     "metadata": {},
     "output_type": "execute_result"
    }
   ],
   "source": [
    "#This a simple arithmetic expression to mutiply then add integers\n",
    "(3*4)+5"
   ]
  },
  {
   "cell_type": "code",
   "execution_count": 19,
   "id": "ab783a34",
   "metadata": {},
   "outputs": [
    {
     "name": "stdout",
     "output_type": "stream",
     "text": [
      "3.333 hours\n"
     ]
    }
   ],
   "source": [
    "#This will convert 200 minutes to hours by diving by 60\n",
    "hours = round(200 / 60, 3)\n",
    "print(f\"{hours} hours\")"
   ]
  },
  {
   "cell_type": "code",
   "execution_count": null,
   "id": "3584d961",
   "metadata": {},
   "outputs": [],
   "source": []
  }
 ],
 "metadata": {
  "kernelspec": {
   "display_name": "Python 3 (ipykernel)",
   "language": "python",
   "name": "python3"
  },
  "language_info": {
   "codemirror_mode": {
    "name": "ipython",
    "version": 3
   },
   "file_extension": ".py",
   "mimetype": "text/x-python",
   "name": "python",
   "nbconvert_exporter": "python",
   "pygments_lexer": "ipython3",
   "version": "3.9.13"
  }
 },
 "nbformat": 4,
 "nbformat_minor": 5
}
